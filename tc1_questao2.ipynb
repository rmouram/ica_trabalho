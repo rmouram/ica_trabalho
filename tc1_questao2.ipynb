{
 "cells": [
  {
   "cell_type": "markdown",
   "id": "92ed15f0-45cf-4474-9f3b-d63ded6a23ca",
   "metadata": {},
   "source": [
    "# Questão 02)"
   ]
  },
  {
   "cell_type": "markdown",
   "id": "5ebefe1a-dbd0-4d92-a73f-0e6793658c9c",
   "metadata": {
    "jp-MarkdownHeadingCollapsed": true
   },
   "source": [
    "## Mínimos quadrados"
   ]
  },
  {
   "cell_type": "code",
   "execution_count": 54,
   "id": "3764081e-e809-4cd5-9184-f864c44c9a7e",
   "metadata": {},
   "outputs": [],
   "source": [
    "import pandas as pd\n",
    "import numpy as np\n",
    "\n",
    "import numpy as np\n",
    "from sklearn.metrics import accuracy_score\n",
    "from sklearn.metrics import mean_squared_error, mean_absolute_error\n",
    "from sklearn.model_selection import train_test_split"
   ]
  },
  {
   "cell_type": "code",
   "execution_count": 55,
   "id": "3247ed5a-65cc-4c07-a490-f42bcef6fc6b",
   "metadata": {},
   "outputs": [],
   "source": [
    "# Read xlsx file\n",
    "ws = pd.read_excel(\"Real_estate_valuation_dataset.xlsx\", engine='openpyxl')\n",
    "# Drop useless column\n",
    "ws = ws.drop('No', axis=1)\n",
    "# Convert in numpy ndarray\n",
    "data = np.array(ws)"
   ]
  },
  {
   "cell_type": "code",
   "execution_count": 56,
   "id": "fa7e9ff4-3dd0-4735-90c3-38c29b86c49b",
   "metadata": {},
   "outputs": [
    {
     "data": {
      "text/html": [
       "<div>\n",
       "<style scoped>\n",
       "    .dataframe tbody tr th:only-of-type {\n",
       "        vertical-align: middle;\n",
       "    }\n",
       "\n",
       "    .dataframe tbody tr th {\n",
       "        vertical-align: top;\n",
       "    }\n",
       "\n",
       "    .dataframe thead th {\n",
       "        text-align: right;\n",
       "    }\n",
       "</style>\n",
       "<table border=\"1\" class=\"dataframe\">\n",
       "  <thead>\n",
       "    <tr style=\"text-align: right;\">\n",
       "      <th></th>\n",
       "      <th>X1 transaction date</th>\n",
       "      <th>X2 house age</th>\n",
       "      <th>X3 distance to the nearest MRT station</th>\n",
       "      <th>X4 number of convenience stores</th>\n",
       "      <th>X5 latitude</th>\n",
       "      <th>X6 longitude</th>\n",
       "      <th>Y house price of unit area</th>\n",
       "    </tr>\n",
       "  </thead>\n",
       "  <tbody>\n",
       "    <tr>\n",
       "      <th>0</th>\n",
       "      <td>2012.916667</td>\n",
       "      <td>32.0</td>\n",
       "      <td>84.87882</td>\n",
       "      <td>10</td>\n",
       "      <td>24.98298</td>\n",
       "      <td>121.54024</td>\n",
       "      <td>37.9</td>\n",
       "    </tr>\n",
       "    <tr>\n",
       "      <th>1</th>\n",
       "      <td>2012.916667</td>\n",
       "      <td>19.5</td>\n",
       "      <td>306.59470</td>\n",
       "      <td>9</td>\n",
       "      <td>24.98034</td>\n",
       "      <td>121.53951</td>\n",
       "      <td>42.2</td>\n",
       "    </tr>\n",
       "    <tr>\n",
       "      <th>2</th>\n",
       "      <td>2013.583333</td>\n",
       "      <td>13.3</td>\n",
       "      <td>561.98450</td>\n",
       "      <td>5</td>\n",
       "      <td>24.98746</td>\n",
       "      <td>121.54391</td>\n",
       "      <td>47.3</td>\n",
       "    </tr>\n",
       "    <tr>\n",
       "      <th>3</th>\n",
       "      <td>2013.500000</td>\n",
       "      <td>13.3</td>\n",
       "      <td>561.98450</td>\n",
       "      <td>5</td>\n",
       "      <td>24.98746</td>\n",
       "      <td>121.54391</td>\n",
       "      <td>54.8</td>\n",
       "    </tr>\n",
       "    <tr>\n",
       "      <th>4</th>\n",
       "      <td>2012.833333</td>\n",
       "      <td>5.0</td>\n",
       "      <td>390.56840</td>\n",
       "      <td>5</td>\n",
       "      <td>24.97937</td>\n",
       "      <td>121.54245</td>\n",
       "      <td>43.1</td>\n",
       "    </tr>\n",
       "  </tbody>\n",
       "</table>\n",
       "</div>"
      ],
      "text/plain": [
       "   X1 transaction date  X2 house age  X3 distance to the nearest MRT station  \\\n",
       "0          2012.916667          32.0                                84.87882   \n",
       "1          2012.916667          19.5                               306.59470   \n",
       "2          2013.583333          13.3                               561.98450   \n",
       "3          2013.500000          13.3                               561.98450   \n",
       "4          2012.833333           5.0                               390.56840   \n",
       "\n",
       "   X4 number of convenience stores  X5 latitude  X6 longitude  \\\n",
       "0                               10     24.98298     121.54024   \n",
       "1                                9     24.98034     121.53951   \n",
       "2                                5     24.98746     121.54391   \n",
       "3                                5     24.98746     121.54391   \n",
       "4                                5     24.97937     121.54245   \n",
       "\n",
       "   Y house price of unit area  \n",
       "0                        37.9  \n",
       "1                        42.2  \n",
       "2                        47.3  \n",
       "3                        54.8  \n",
       "4                        43.1  "
      ]
     },
     "execution_count": 56,
     "metadata": {},
     "output_type": "execute_result"
    }
   ],
   "source": [
    "ws.head()"
   ]
  },
  {
   "cell_type": "code",
   "execution_count": 57,
   "id": "d56c1bb8-8b1d-4909-81c5-ac888b4c7824",
   "metadata": {},
   "outputs": [
    {
     "name": "stdout",
     "output_type": "stream",
     "text": [
      "x_train: (331, 6)\n",
      "y_train: (331,)\n",
      "x_test: (83, 6)\n",
      "y_test: (83,)\n"
     ]
    }
   ],
   "source": [
    "X = data[:, :-1]\n",
    "Y = data[:, -1]\n",
    "\n",
    "x_train, x_test, y_train, y_test = train_test_split(X, Y, test_size=0.2, random_state=42)\n",
    "\n",
    "print(\"x_train:\", x_train.shape)\n",
    "print(\"y_train:\", y_train.shape)\n",
    "print(\"x_test:\", x_test.shape)\n",
    "print(\"y_test:\", y_test.shape)"
   ]
  },
  {
   "cell_type": "code",
   "execution_count": 58,
   "id": "132f9160-7f99-45e4-9e40-1bedb24ed2e7",
   "metadata": {},
   "outputs": [],
   "source": [
    "def ridge_regression(X, y, alpha):\n",
    "    # Adiciona uma coluna de 1s para representar o termo de viés\n",
    "    X = np.concatenate((np.ones((X.shape[0], 1)), X), axis=1)\n",
    "\n",
    "    # Calcula os coeficientes usando a fórmula dos mínimos quadrados com regularização de Ridge\n",
    "    theta = np.linalg.inv(X.T @ X + alpha * np.eye(X.shape[1])) @ X.T @ y\n",
    "\n",
    "    return theta\n",
    "\n",
    "def calculate_error(X, y, theta):\n",
    "    # Adiciona uma coluna de 1s para representar o termo de viés\n",
    "    X = np.concatenate((np.ones((X.shape[0], 1)), X), axis=1)\n",
    "\n",
    "    # Realiza as predições\n",
    "    predictions = X @ theta\n",
    "\n",
    "    # Converte as predições em rótulos\n",
    "    predicted_labels = np.argmax(predictions, axis=1)\n",
    "\n",
    "    # Calcula o erro (taxa de erro)\n",
    "    error = np.mean(predicted_labels != y)\n",
    "\n",
    "    return error\n"
   ]
  },
  {
   "cell_type": "code",
   "execution_count": 59,
   "id": "51ce675a-8008-4e17-8f5a-06e43e4530ae",
   "metadata": {},
   "outputs": [
    {
     "name": "stdout",
     "output_type": "stream",
     "text": [
      "Erro médio quadrado (MSE): 54.60475048894781\n",
      "Erro médio absoluto (MAE): 5.326757449309436\n"
     ]
    }
   ],
   "source": [
    "\n",
    "# Define o valor de regularização (alpha)\n",
    "alpha = 0.01\n",
    "\n",
    "# Realiza a regressão usando mínimos quadrados com regularização de Ridge\n",
    "theta = ridge_regression(x_train, y_train, alpha)\n",
    "\n",
    "# Adiciona uma coluna de 1s aos dados de teste\n",
    "X_test = np.concatenate((np.ones((x_test.shape[0], 1)), x_test), axis=1)\n",
    "\n",
    "# Realiza as predições\n",
    "predictions = X_test @ theta\n",
    "\n",
    "# Calcular o erro médio quadrado (MSE) nas previsões\n",
    "mse = mean_squared_error(y_test, predictions)\n",
    "print(\"Erro médio quadrado (MSE):\", mse)\n",
    "mae = mean_absolute_error(y_test, predictions)\n",
    "print(\"Erro médio absoluto (MAE):\", mae)"
   ]
  },
  {
   "cell_type": "code",
   "execution_count": null,
   "id": "92f40855-3df2-4877-a98e-c62ad09deef1",
   "metadata": {},
   "outputs": [],
   "source": []
  },
  {
   "cell_type": "markdown",
   "id": "2a7cf715-bc67-4b48-bf87-97de940f949b",
   "metadata": {},
   "source": [
    "## ELM"
   ]
  },
  {
   "cell_type": "code",
   "execution_count": null,
   "id": "195209a2-cb18-40a9-8643-bb0b8f86f75e",
   "metadata": {},
   "outputs": [],
   "source": []
  },
  {
   "cell_type": "markdown",
   "id": "e5ea2fdb-4bbe-4ca0-9a1d-f1b14d22ed0a",
   "metadata": {
    "jp-MarkdownHeadingCollapsed": true
   },
   "source": [
    "## MLP"
   ]
  },
  {
   "cell_type": "code",
   "execution_count": 121,
   "id": "df840d2e-33d3-4b6a-9b34-1c5449c7146a",
   "metadata": {},
   "outputs": [
    {
     "name": "stdout",
     "output_type": "stream",
     "text": [
      "Epoch 0, Loss: 1744.3532001788842\n",
      "Epoch 100, Loss: 166.20439441686747\n",
      "Epoch 200, Loss: 170.97232164491703\n",
      "Epoch 300, Loss: 88.55545742796599\n",
      "Epoch 400, Loss: 230.98242021818038\n",
      "Epoch 500, Loss: 144.75508647085684\n",
      "Epoch 600, Loss: 154.17392710953555\n",
      "Epoch 700, Loss: 343.88520207327196\n",
      "Epoch 800, Loss: 116.81917441293152\n",
      "Epoch 900, Loss: 338.81722664754415\n",
      "Test MSE: 171.54173666490547\n",
      "Test MAE: 10.89998090791787\n"
     ]
    }
   ],
   "source": [
    "import pandas as pd\n",
    "import numpy as np\n",
    "from sklearn.metrics import mean_squared_error, mean_absolute_error\n",
    "from sklearn.model_selection import train_test_split\n",
    "\n",
    "import warnings\n",
    "warnings.filterwarnings('ignore')\n",
    "\n",
    "\n",
    "# Read xlsx file\n",
    "ws = pd.read_excel(\"Real_estate_valuation_dataset.xlsx\", engine='openpyxl')\n",
    "# Drop useless column\n",
    "ws = ws.drop('No', axis=1)\n",
    "# Convert to numpy ndarray\n",
    "data = np.array(ws)\n",
    "\n",
    "X = data[:, :-1]\n",
    "Y = data[:, -1]\n",
    "\n",
    "X_train, X_test, y_train, y_test = train_test_split(X, Y, test_size=0.2, random_state=42)\n",
    "\n",
    "def init(x, y):\n",
    "    layer = np.random.uniform(-1, 1., size=(x, y)) / np.sqrt(x * y)\n",
    "    return layer.astype(np.float32)\n",
    "\n",
    "def sigmoid(x):\n",
    "    return 1 / (1 + np.exp(-x))\n",
    "\n",
    "def d_sigmoid(x):\n",
    "    return x * (1 - x)\n",
    "\n",
    "def forward_backward_pass(x, y):\n",
    "    x_l1 = x.dot(l1)\n",
    "    x_sigmoid = sigmoid(x_l1)\n",
    "\n",
    "    x_l2 = x_sigmoid.dot(l2)\n",
    "    out = x_l2\n",
    "    \n",
    "    error = 2 * (out - y) / out.shape[0]\n",
    "    update_l2 = x_sigmoid.T @ error\n",
    "    \n",
    "    error = (error @ l2.T) * d_sigmoid(x_sigmoid)\n",
    "    update_l1 = x.T @ error\n",
    "    \n",
    "    return out, update_l1, update_l2\n",
    "\n",
    "epochs = 1000\n",
    "lr = 0.001\n",
    "batch = 32\n",
    "\n",
    "np.random.seed(42)\n",
    "l1 = init(X_train.shape[1], 24)\n",
    "l2 = init(24, 1)\n",
    "\n",
    "losses = []\n",
    "\n",
    "y = y.reshape((-1, 1))\n",
    "\n",
    "for i in range(epochs):\n",
    "    sample = np.random.randint(0, X_train.shape[0], size=(batch))\n",
    "    x = X_train[sample]\n",
    "    y = y_train[sample].reshape((-1, 1))\n",
    "\n",
    "    out, update_l1, update_l2 = forward_backward_pass(x, y)\n",
    "\n",
    "    loss = mean_squared_error(y, out)  # Calculate MSE\n",
    "    losses.append(loss)\n",
    "\n",
    "    l1 -= lr * update_l1\n",
    "    l2 -= lr * update_l2\n",
    "\n",
    "    if i % 100 == 0:\n",
    "        print(f'Epoch {i}, Loss: {loss}')\n",
    "\n",
    "\n",
    "X_test = X_test.reshape((-1, X_train.shape[1]))\n",
    "y_test = y_test.reshape((-1, 1))\n",
    "\n",
    "# Teste\n",
    "def test(x, y, l1, l2):\n",
    "    x_l1 = x.dot(l1)\n",
    "    x_sigmoid = sigmoid(x_l1)\n",
    "\n",
    "    x_l2 = x_sigmoid.dot(l2)\n",
    "    out = x_l2\n",
    "    \n",
    "    return out\n",
    "\n",
    "# Calculando as previsões para o conjunto de testes\n",
    "y_pred_test = test(X_test, y_test, l1, l2)\n",
    "\n",
    "# Calculando o MSE para o conjunto de testes\n",
    "mse_test = mean_squared_error(y_test, y_pred_test)\n",
    "print(\"Test MSE:\", mse_test)\n",
    "\n",
    "# Calculando o MAE para o conjunto de testes\n",
    "mae_test = mean_absolute_error(y_test, y_pred_test)\n",
    "print(\"Test MAE:\", mae_test)"
   ]
  }
 ],
 "metadata": {
  "kernelspec": {
   "display_name": "Python 3 (ipykernel)",
   "language": "python",
   "name": "python3"
  },
  "language_info": {
   "codemirror_mode": {
    "name": "ipython",
    "version": 3
   },
   "file_extension": ".py",
   "mimetype": "text/x-python",
   "name": "python",
   "nbconvert_exporter": "python",
   "pygments_lexer": "ipython3",
   "version": "3.10.6"
  }
 },
 "nbformat": 4,
 "nbformat_minor": 5
}
