{
 "cells": [
  {
   "cell_type": "markdown",
   "id": "92ed15f0-45cf-4474-9f3b-d63ded6a23ca",
   "metadata": {},
   "source": [
    "# Questão 02)"
   ]
  },
  {
   "cell_type": "markdown",
   "id": "5ebefe1a-dbd0-4d92-a73f-0e6793658c9c",
   "metadata": {
    "jp-MarkdownHeadingCollapsed": true
   },
   "source": [
    "## Mínimos quadrados"
   ]
  },
  {
   "cell_type": "code",
   "execution_count": 54,
   "id": "3764081e-e809-4cd5-9184-f864c44c9a7e",
   "metadata": {},
   "outputs": [],
   "source": [
    "import pandas as pd\n",
    "import numpy as np\n",
    "\n",
    "import numpy as np\n",
    "from sklearn.metrics import accuracy_score\n",
    "from sklearn.metrics import mean_squared_error, mean_absolute_error\n",
    "from sklearn.model_selection import train_test_split"
   ]
  },
  {
   "cell_type": "code",
   "execution_count": 55,
   "id": "3247ed5a-65cc-4c07-a490-f42bcef6fc6b",
   "metadata": {},
   "outputs": [],
   "source": [
    "# Read xlsx file\n",
    "ws = pd.read_excel(\"Real_estate_valuation_dataset.xlsx\", engine='openpyxl')\n",
    "# Drop useless column\n",
    "ws = ws.drop('No', axis=1)\n",
    "# Convert in numpy ndarray\n",
    "data = np.array(ws)"
   ]
  },
  {
   "cell_type": "code",
   "execution_count": 56,
   "id": "fa7e9ff4-3dd0-4735-90c3-38c29b86c49b",
   "metadata": {},
   "outputs": [
    {
     "data": {
      "text/html": [
       "<div>\n",
       "<style scoped>\n",
       "    .dataframe tbody tr th:only-of-type {\n",
       "        vertical-align: middle;\n",
       "    }\n",
       "\n",
       "    .dataframe tbody tr th {\n",
       "        vertical-align: top;\n",
       "    }\n",
       "\n",
       "    .dataframe thead th {\n",
       "        text-align: right;\n",
       "    }\n",
       "</style>\n",
       "<table border=\"1\" class=\"dataframe\">\n",
       "  <thead>\n",
       "    <tr style=\"text-align: right;\">\n",
       "      <th></th>\n",
       "      <th>X1 transaction date</th>\n",
       "      <th>X2 house age</th>\n",
       "      <th>X3 distance to the nearest MRT station</th>\n",
       "      <th>X4 number of convenience stores</th>\n",
       "      <th>X5 latitude</th>\n",
       "      <th>X6 longitude</th>\n",
       "      <th>Y house price of unit area</th>\n",
       "    </tr>\n",
       "  </thead>\n",
       "  <tbody>\n",
       "    <tr>\n",
       "      <th>0</th>\n",
       "      <td>2012.916667</td>\n",
       "      <td>32.0</td>\n",
       "      <td>84.87882</td>\n",
       "      <td>10</td>\n",
       "      <td>24.98298</td>\n",
       "      <td>121.54024</td>\n",
       "      <td>37.9</td>\n",
       "    </tr>\n",
       "    <tr>\n",
       "      <th>1</th>\n",
       "      <td>2012.916667</td>\n",
       "      <td>19.5</td>\n",
       "      <td>306.59470</td>\n",
       "      <td>9</td>\n",
       "      <td>24.98034</td>\n",
       "      <td>121.53951</td>\n",
       "      <td>42.2</td>\n",
       "    </tr>\n",
       "    <tr>\n",
       "      <th>2</th>\n",
       "      <td>2013.583333</td>\n",
       "      <td>13.3</td>\n",
       "      <td>561.98450</td>\n",
       "      <td>5</td>\n",
       "      <td>24.98746</td>\n",
       "      <td>121.54391</td>\n",
       "      <td>47.3</td>\n",
       "    </tr>\n",
       "    <tr>\n",
       "      <th>3</th>\n",
       "      <td>2013.500000</td>\n",
       "      <td>13.3</td>\n",
       "      <td>561.98450</td>\n",
       "      <td>5</td>\n",
       "      <td>24.98746</td>\n",
       "      <td>121.54391</td>\n",
       "      <td>54.8</td>\n",
       "    </tr>\n",
       "    <tr>\n",
       "      <th>4</th>\n",
       "      <td>2012.833333</td>\n",
       "      <td>5.0</td>\n",
       "      <td>390.56840</td>\n",
       "      <td>5</td>\n",
       "      <td>24.97937</td>\n",
       "      <td>121.54245</td>\n",
       "      <td>43.1</td>\n",
       "    </tr>\n",
       "  </tbody>\n",
       "</table>\n",
       "</div>"
      ],
      "text/plain": [
       "   X1 transaction date  X2 house age  X3 distance to the nearest MRT station  \\\n",
       "0          2012.916667          32.0                                84.87882   \n",
       "1          2012.916667          19.5                               306.59470   \n",
       "2          2013.583333          13.3                               561.98450   \n",
       "3          2013.500000          13.3                               561.98450   \n",
       "4          2012.833333           5.0                               390.56840   \n",
       "\n",
       "   X4 number of convenience stores  X5 latitude  X6 longitude  \\\n",
       "0                               10     24.98298     121.54024   \n",
       "1                                9     24.98034     121.53951   \n",
       "2                                5     24.98746     121.54391   \n",
       "3                                5     24.98746     121.54391   \n",
       "4                                5     24.97937     121.54245   \n",
       "\n",
       "   Y house price of unit area  \n",
       "0                        37.9  \n",
       "1                        42.2  \n",
       "2                        47.3  \n",
       "3                        54.8  \n",
       "4                        43.1  "
      ]
     },
     "execution_count": 56,
     "metadata": {},
     "output_type": "execute_result"
    }
   ],
   "source": [
    "ws.head()"
   ]
  },
  {
   "cell_type": "code",
   "execution_count": 57,
   "id": "d56c1bb8-8b1d-4909-81c5-ac888b4c7824",
   "metadata": {},
   "outputs": [
    {
     "name": "stdout",
     "output_type": "stream",
     "text": [
      "x_train: (331, 6)\n",
      "y_train: (331,)\n",
      "x_test: (83, 6)\n",
      "y_test: (83,)\n"
     ]
    }
   ],
   "source": [
    "X = data[:, :-1]\n",
    "Y = data[:, -1]\n",
    "\n",
    "x_train, x_test, y_train, y_test = train_test_split(X, Y, test_size=0.2, random_state=42)\n",
    "\n",
    "print(\"x_train:\", x_train.shape)\n",
    "print(\"y_train:\", y_train.shape)\n",
    "print(\"x_test:\", x_test.shape)\n",
    "print(\"y_test:\", y_test.shape)"
   ]
  },
  {
   "cell_type": "code",
   "execution_count": 58,
   "id": "132f9160-7f99-45e4-9e40-1bedb24ed2e7",
   "metadata": {},
   "outputs": [],
   "source": [
    "def ridge_regression(X, y, alpha):\n",
    "    # Adiciona uma coluna de 1s para representar o termo de viés\n",
    "    X = np.concatenate((np.ones((X.shape[0], 1)), X), axis=1)\n",
    "\n",
    "    # Calcula os coeficientes usando a fórmula dos mínimos quadrados com regularização de Ridge\n",
    "    theta = np.linalg.inv(X.T @ X + alpha * np.eye(X.shape[1])) @ X.T @ y\n",
    "\n",
    "    return theta\n",
    "\n",
    "def calculate_error(X, y, theta):\n",
    "    # Adiciona uma coluna de 1s para representar o termo de viés\n",
    "    X = np.concatenate((np.ones((X.shape[0], 1)), X), axis=1)\n",
    "\n",
    "    # Realiza as predições\n",
    "    predictions = X @ theta\n",
    "\n",
    "    # Converte as predições em rótulos\n",
    "    predicted_labels = np.argmax(predictions, axis=1)\n",
    "\n",
    "    # Calcula o erro (taxa de erro)\n",
    "    error = np.mean(predicted_labels != y)\n",
    "\n",
    "    return error\n"
   ]
  },
  {
   "cell_type": "code",
   "execution_count": 59,
   "id": "51ce675a-8008-4e17-8f5a-06e43e4530ae",
   "metadata": {},
   "outputs": [
    {
     "name": "stdout",
     "output_type": "stream",
     "text": [
      "Erro médio quadrado (MSE): 54.60475048894781\n",
      "Erro médio absoluto (MAE): 5.326757449309436\n"
     ]
    }
   ],
   "source": [
    "\n",
    "# Define o valor de regularização (alpha)\n",
    "alpha = 0.01\n",
    "\n",
    "# Realiza a regressão usando mínimos quadrados com regularização de Ridge\n",
    "theta = ridge_regression(x_train, y_train, alpha)\n",
    "\n",
    "# Adiciona uma coluna de 1s aos dados de teste\n",
    "X_test = np.concatenate((np.ones((x_test.shape[0], 1)), x_test), axis=1)\n",
    "\n",
    "# Realiza as predições\n",
    "predictions = X_test @ theta\n",
    "\n",
    "# Calcular o erro médio quadrado (MSE) nas previsões\n",
    "mse = mean_squared_error(y_test, predictions)\n",
    "print(\"Erro médio quadrado (MSE):\", mse)\n",
    "mae = mean_absolute_error(y_test, predictions)\n",
    "print(\"Erro médio absoluto (MAE):\", mae)"
   ]
  },
  {
   "cell_type": "code",
   "execution_count": null,
   "id": "92f40855-3df2-4877-a98e-c62ad09deef1",
   "metadata": {},
   "outputs": [],
   "source": []
  },
  {
   "cell_type": "markdown",
   "id": "2a7cf715-bc67-4b48-bf87-97de940f949b",
   "metadata": {
    "jp-MarkdownHeadingCollapsed": true
   },
   "source": [
    "## ELM"
   ]
  },
  {
   "cell_type": "code",
   "execution_count": 34,
   "id": "195209a2-cb18-40a9-8643-bb0b8f86f75e",
   "metadata": {},
   "outputs": [
    {
     "name": "stdout",
     "output_type": "stream",
     "text": [
      "Mean Squared Error: 63.80386815780189\n",
      "Test MAE: 5.9639761213878995\n"
     ]
    }
   ],
   "source": [
    "import pandas as pd\n",
    "import numpy as np\n",
    "\n",
    "import numpy as np\n",
    "from sklearn.metrics import accuracy_score\n",
    "from sklearn.metrics import mean_squared_error, mean_absolute_error\n",
    "from sklearn.model_selection import train_test_split\n",
    "from sklearn.preprocessing import MinMaxScaler\n",
    "\n",
    "class ELMRegressor:\n",
    "    def __init__(self, num_hidden_neurons):\n",
    "        self.num_hidden_neurons = num_hidden_neurons\n",
    "        self.weights_input_hidden = None\n",
    "        self.weights_hidden_output = None\n",
    "        self.bias_hidden = None\n",
    "\n",
    "    def _sigmoid(self, x):\n",
    "        return 1.0 / (1.0 + np.exp(-x))\n",
    "\n",
    "    def _relu(self, x):\n",
    "        return np.maximum(0, x)\n",
    "\n",
    "    def _tanh(self, x):\n",
    "        return np.tanh(x)\n",
    "\n",
    "    def fit(self, X, y):\n",
    "        num_samples, num_features = X.shape\n",
    "        \n",
    "        # Inicialização aleatória dos pesos e vieses\n",
    "        self.weights_input_hidden = np.random.rand(num_features, self.num_hidden_neurons)\n",
    "        self.bias_hidden = np.random.rand(1, self.num_hidden_neurons)\n",
    "\n",
    "        \n",
    "        # Calcula as saídas da camada oculta\n",
    "        hidden_output = self._sigmoid(np.dot(X, self.weights_input_hidden) + self.bias_hidden)\n",
    "\n",
    "        # Calcula os pesos da camada de saída usando a pseudo-inversa\n",
    "        self.weights_hidden_output = np.dot(np.linalg.pinv(hidden_output), y)\n",
    "\n",
    "    def predict(self, X):\n",
    "        hidden_output = self._sigmoid(np.dot(X, self.weights_input_hidden) + self.bias_hidden)\n",
    "        predictions = np.dot(hidden_output, self.weights_hidden_output)\n",
    "        return predictions\n",
    "\n",
    "# Read xlsx file\n",
    "ws = pd.read_excel(\"Real_estate_valuation_dataset.xlsx\", engine='openpyxl')\n",
    "# Drop useless column\n",
    "ws = ws.drop('No', axis=1)\n",
    "# Convert in numpy ndarray\n",
    "data = np.array(ws)\n",
    "\n",
    "X = data[:, :-1]\n",
    "Y = data[:, -1]\n",
    "\n",
    "X_train, X_test, y_train, y_test = train_test_split(X, Y, test_size=0.2, random_state=42)\n",
    "\n",
    "scaler = MinMaxScaler()\n",
    "X_train = scaler.fit_transform(X_train)\n",
    "X_test = scaler.fit_transform(X_test)\n",
    "\n",
    "# Crie uma instância do regressor ELM e ajuste-o aos dados de treinamento\n",
    "elm_regressor = ELMRegressor(num_hidden_neurons=16)\n",
    "elm_regressor.fit(X_train, y_train)\n",
    "\n",
    "# Faça previsões nos dados de teste\n",
    "predictions = elm_regressor.predict(X_test)\n",
    "#print(\"predictions: \", predictions)\n",
    "\n",
    "# Calcule o Mean Squared Error (MSE)\n",
    "mse = np.mean((y_test - predictions)**2)\n",
    "print(\"Mean Squared Error:\", mse)\n",
    "\n",
    "# Calculando o MAE para o conjunto de testes\n",
    "mae_test = mean_absolute_error(y_test, predictions)\n",
    "print(\"Test MAE:\", mae_test)"
   ]
  },
  {
   "cell_type": "code",
   "execution_count": 6,
   "id": "2920b702-9cd3-4f3d-a7de-016012101535",
   "metadata": {},
   "outputs": [
    {
     "data": {
      "text/plain": [
       "(83, 6)"
      ]
     },
     "execution_count": 6,
     "metadata": {},
     "output_type": "execute_result"
    }
   ],
   "source": [
    "X_test.shape"
   ]
  },
  {
   "cell_type": "code",
   "execution_count": 7,
   "id": "552bfed3-1589-4909-a6b0-b65877fb55cb",
   "metadata": {},
   "outputs": [
    {
     "data": {
      "text/plain": [
       "(83,)"
      ]
     },
     "execution_count": 7,
     "metadata": {},
     "output_type": "execute_result"
    }
   ],
   "source": [
    "predictions.shape"
   ]
  },
  {
   "cell_type": "code",
   "execution_count": 31,
   "id": "a0939107-cfdb-4348-b2ce-2624e42f1e67",
   "metadata": {},
   "outputs": [],
   "source": [
    "def sigmoid(x):\n",
    "        return 1.0 / (1.0 + np.exp(-x))"
   ]
  },
  {
   "cell_type": "code",
   "execution_count": 33,
   "id": "a6798c44-3986-43d1-936c-d8a24fc63b02",
   "metadata": {},
   "outputs": [
    {
     "data": {
      "text/plain": [
       "1.0"
      ]
     },
     "execution_count": 33,
     "metadata": {},
     "output_type": "execute_result"
    }
   ],
   "source": [
    "sigmoid(160.3)"
   ]
  },
  {
   "cell_type": "markdown",
   "id": "e5ea2fdb-4bbe-4ca0-9a1d-f1b14d22ed0a",
   "metadata": {},
   "source": [
    "## MLP"
   ]
  },
  {
   "cell_type": "code",
   "execution_count": 45,
   "id": "df840d2e-33d3-4b6a-9b34-1c5449c7146a",
   "metadata": {},
   "outputs": [
    {
     "name": "stdout",
     "output_type": "stream",
     "text": [
      "Epoch 0, Loss: 1233.0773878263674\n",
      "Epoch 100, Loss: 155.36832558914145\n",
      "Epoch 200, Loss: 188.3879252833759\n",
      "Epoch 300, Loss: 164.57718445456777\n",
      "Epoch 400, Loss: 163.91996020032371\n",
      "Epoch 500, Loss: 103.09379810511678\n",
      "Epoch 600, Loss: 339.63747011354536\n",
      "Epoch 700, Loss: 174.7317902097364\n",
      "Epoch 800, Loss: 220.7116176469917\n",
      "Epoch 900, Loss: 87.95089893501762\n",
      "Epoch 1000, Loss: 157.78005153375386\n",
      "Epoch 1100, Loss: 192.82265978674147\n",
      "Epoch 1200, Loss: 199.72882306377713\n",
      "Epoch 1300, Loss: 92.49243333536926\n",
      "Epoch 1400, Loss: 167.70055074343855\n",
      "Epoch 1500, Loss: 280.0281252810136\n",
      "Epoch 1600, Loss: 124.69116027943502\n",
      "Epoch 1700, Loss: 103.36067918634188\n",
      "Epoch 1800, Loss: 201.77519953846465\n",
      "Epoch 1900, Loss: 348.0638274899434\n",
      "Epoch 2000, Loss: 122.50572807609495\n",
      "Epoch 2100, Loss: 118.8652214412685\n",
      "Epoch 2200, Loss: 96.5217352397188\n",
      "Epoch 2300, Loss: 130.09039360641583\n",
      "Epoch 2400, Loss: 150.7865790792987\n",
      "Epoch 2500, Loss: 175.75464920784523\n",
      "Epoch 2600, Loss: 331.3757866265173\n",
      "Epoch 2700, Loss: 134.2007087462455\n",
      "Epoch 2800, Loss: 123.03714355418249\n",
      "Epoch 2900, Loss: 136.17316012219305\n",
      "Epoch 3000, Loss: 112.82051446328019\n",
      "Epoch 3100, Loss: 539.9364539361868\n",
      "Epoch 3200, Loss: 99.70520454163008\n",
      "Epoch 3300, Loss: 122.09481146470506\n",
      "Epoch 3400, Loss: 284.3767509719815\n",
      "Epoch 3500, Loss: 139.20606746716925\n",
      "Epoch 3600, Loss: 219.68400982029164\n",
      "Epoch 3700, Loss: 223.5422604122205\n",
      "Epoch 3800, Loss: 195.6600026539515\n",
      "Epoch 3900, Loss: 126.3970340805626\n",
      "Epoch 4000, Loss: 133.59519960313946\n",
      "Epoch 4100, Loss: 130.8612256204725\n",
      "Epoch 4200, Loss: 112.44323602550601\n",
      "Epoch 4300, Loss: 98.185652812173\n",
      "Epoch 4400, Loss: 215.0930511179218\n",
      "Epoch 4500, Loss: 198.2377565273477\n",
      "Epoch 4600, Loss: 267.09818221757916\n",
      "Epoch 4700, Loss: 188.12597611225715\n",
      "Epoch 4800, Loss: 281.89400827186864\n",
      "Epoch 4900, Loss: 289.33950077527174\n",
      "Epoch 5000, Loss: 79.49008350248562\n",
      "Epoch 5100, Loss: 149.21658412036305\n",
      "Epoch 5200, Loss: 223.94292195950487\n",
      "Epoch 5300, Loss: 197.09263805803462\n",
      "Epoch 5400, Loss: 137.6760871500788\n",
      "Epoch 5500, Loss: 130.1119987314446\n",
      "Epoch 5600, Loss: 159.77637769987908\n",
      "Epoch 5700, Loss: 143.0281957612431\n",
      "Epoch 5800, Loss: 153.13014330417104\n",
      "Epoch 5900, Loss: 484.86700203723024\n",
      "Epoch 6000, Loss: 204.68781882643611\n",
      "Epoch 6100, Loss: 56.63232319934735\n",
      "Epoch 6200, Loss: 218.5485891891626\n",
      "Epoch 6300, Loss: 88.5648841122831\n",
      "Epoch 6400, Loss: 170.22239500404152\n",
      "Epoch 6500, Loss: 122.54097812697248\n",
      "Epoch 6600, Loss: 126.3313026014878\n",
      "Epoch 6700, Loss: 246.97765589518593\n",
      "Epoch 6800, Loss: 143.71854869334067\n",
      "Epoch 6900, Loss: 537.0631940149772\n",
      "Epoch 7000, Loss: 125.04541231994216\n",
      "Epoch 7100, Loss: 164.59873336023807\n",
      "Epoch 7200, Loss: 229.6769908551019\n",
      "Epoch 7300, Loss: 126.0930583012181\n",
      "Epoch 7400, Loss: 224.586764625916\n",
      "Epoch 7500, Loss: 139.1619161369507\n",
      "Epoch 7600, Loss: 87.75724497289914\n",
      "Epoch 7700, Loss: 204.4045180684529\n",
      "Epoch 7800, Loss: 193.58875394338088\n",
      "Epoch 7900, Loss: 202.58172525386388\n",
      "Epoch 8000, Loss: 221.90586493668357\n",
      "Epoch 8100, Loss: 148.18524315192582\n",
      "Epoch 8200, Loss: 100.52478538233723\n",
      "Epoch 8300, Loss: 145.86460568289468\n",
      "Epoch 8400, Loss: 211.2873757535384\n",
      "Epoch 8500, Loss: 159.51029092613328\n",
      "Epoch 8600, Loss: 206.5119296793178\n",
      "Epoch 8700, Loss: 157.0543952291581\n",
      "Epoch 8800, Loss: 135.37686441529846\n",
      "Epoch 8900, Loss: 637.3118490915163\n",
      "Epoch 9000, Loss: 182.2882187495772\n",
      "Epoch 9100, Loss: 183.36048105201644\n",
      "Epoch 9200, Loss: 257.6756933254942\n",
      "Epoch 9300, Loss: 136.52868710603502\n",
      "Epoch 9400, Loss: 106.26064926104578\n",
      "Epoch 9500, Loss: 247.2003129003636\n",
      "Epoch 9600, Loss: 164.84064489743395\n",
      "Epoch 9700, Loss: 229.32073615814457\n",
      "Epoch 9800, Loss: 184.5647121299677\n",
      "Epoch 9900, Loss: 98.6254996953318\n",
      "Test MSE: 172.5211993790481\n",
      "Test MAE: 10.937154856074004\n"
     ]
    }
   ],
   "source": [
    "import pandas as pd\n",
    "import numpy as np\n",
    "from sklearn.metrics import mean_squared_error, mean_absolute_error\n",
    "from sklearn.model_selection import train_test_split\n",
    "\n",
    "import warnings\n",
    "warnings.filterwarnings('ignore')\n",
    "\n",
    "\n",
    "# Read xlsx file\n",
    "ws = pd.read_excel(\"Real_estate_valuation_dataset.xlsx\", engine='openpyxl')\n",
    "# Drop useless column\n",
    "ws = ws.drop('No', axis=1)\n",
    "# Convert to numpy ndarray\n",
    "data = np.array(ws)\n",
    "\n",
    "X = data[:, :-1]\n",
    "Y = data[:, -1]\n",
    "\n",
    "X_train, X_test, y_train, y_test = train_test_split(X, Y, test_size=0.2, random_state=42)\n",
    "\n",
    "def init(x, y):\n",
    "    layer = np.random.uniform(-1, 1., size=(x, y)) / np.sqrt(x * y)\n",
    "    return layer.astype(np.float32)\n",
    "\n",
    "def sigmoid(x):\n",
    "    return 1 / (1 + np.exp(-x))\n",
    "\n",
    "def d_sigmoid(x):\n",
    "    return x * (1 - x)\n",
    "\n",
    "def forward_backward_pass(x, y):\n",
    "    x_l1 = x.dot(l1)\n",
    "    x_sigmoid = sigmoid(x_l1)\n",
    "\n",
    "    x_l2 = x_sigmoid.dot(l2)\n",
    "    out = x_l2\n",
    "    \n",
    "    error = 2 * (out - y) / out.shape[0]\n",
    "    update_l2 = x_sigmoid.T @ error\n",
    "    \n",
    "    error = (error @ l2.T) * d_sigmoid(x_sigmoid)\n",
    "    update_l1 = x.T @ error\n",
    "    \n",
    "    return out, update_l1, update_l2\n",
    "\n",
    "epochs = 10000\n",
    "lr = 0.001\n",
    "batch = 16\n",
    "num_hidden_neurons = 20\n",
    "\n",
    "np.random.seed(42)\n",
    "l1 = init(X_train.shape[1], num_hidden_neurons)\n",
    "l2 = init(num_hidden_neurons, 1)\n",
    "\n",
    "losses = []\n",
    "\n",
    "#y = y.reshape((-1, 1))\n",
    "\n",
    "for i in range(epochs):\n",
    "    sample = np.random.randint(0, X_train.shape[0], size=(batch))\n",
    "    x = X_train[sample]\n",
    "    y = y_train[sample].reshape((-1, 1))\n",
    "\n",
    "    out, update_l1, update_l2 = forward_backward_pass(x, y)\n",
    "\n",
    "    loss = mean_squared_error(y, out)  # Calculate MSE\n",
    "    losses.append(loss)\n",
    "\n",
    "    l1 -= lr * update_l1\n",
    "    l2 -= lr * update_l2\n",
    "\n",
    "    if i % 100 == 0:\n",
    "        print(f'Epoch {i}, Loss: {loss}')\n",
    "\n",
    "\n",
    "X_test = X_test.reshape((-1, X_train.shape[1]))\n",
    "y_test = y_test.reshape((-1, 1))\n",
    "\n",
    "# Teste\n",
    "def test(x, y, l1, l2):\n",
    "    x_l1 = x.dot(l1)\n",
    "    x_sigmoid = sigmoid(x_l1)\n",
    "\n",
    "    x_l2 = x_sigmoid.dot(l2)\n",
    "    out = x_l2\n",
    "    \n",
    "    return out\n",
    "\n",
    "# Calculando as previsões para o conjunto de testes\n",
    "y_pred_test = test(X_test, y_test, l1, l2)\n",
    "\n",
    "# Calculando o MSE para o conjunto de testes\n",
    "mse_test = mean_squared_error(y_test, y_pred_test)\n",
    "print(\"Test MSE:\", mse_test)\n",
    "\n",
    "# Calculando o MAE para o conjunto de testes\n",
    "mae_test = mean_absolute_error(y_test, y_pred_test)\n",
    "print(\"Test MAE:\", mae_test)"
   ]
  }
 ],
 "metadata": {
  "kernelspec": {
   "display_name": "Python 3 (ipykernel)",
   "language": "python",
   "name": "python3"
  },
  "language_info": {
   "codemirror_mode": {
    "name": "ipython",
    "version": 3
   },
   "file_extension": ".py",
   "mimetype": "text/x-python",
   "name": "python",
   "nbconvert_exporter": "python",
   "pygments_lexer": "ipython3",
   "version": "3.10.12"
  }
 },
 "nbformat": 4,
 "nbformat_minor": 5
}
